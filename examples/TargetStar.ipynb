{
 "cells": [
  {
   "cell_type": "code",
   "execution_count": null,
   "metadata": {},
   "outputs": [],
   "source": [
    "from matplotlib import pyplot as plt\n",
    "%matplotlib inline\n",
    "import pastis"
   ]
  },
  {
   "cell_type": "markdown",
   "metadata": {},
   "source": [
    "The first thing to do is to initialise pastis(takes some time).\n",
    "\n",
    "This reads the BT-Settl spectra and Darmouth evolution tracks, as well as some photometric filters."
   ]
  },
  {
   "cell_type": "code",
   "execution_count": null,
   "metadata": {},
   "outputs": [],
   "source": [
    "pastis.initialize()"
   ]
  },
  {
   "cell_type": "markdown",
   "metadata": {},
   "source": [
    "To star, let's instaniate a star whose Teff, logg and z are known. The star is assumed to be at 10 pc, with zero redenning."
   ]
  },
  {
   "cell_type": "code",
   "execution_count": null,
   "metadata": {},
   "outputs": [],
   "source": [
    "from pastis import AstroClasses as ac\n",
    "star = ac.Target(teff=5700, z=0, logg=4.4, ebmv=0.0, dist=10)"
   ]
  },
  {
   "cell_type": "markdown",
   "metadata": {},
   "source": [
    "Now the object 'star' has many attributes and properties. You can see its radius and mass, for example."
   ]
  },
  {
   "cell_type": "code",
   "execution_count": null,
   "metadata": {},
   "outputs": [],
   "source": [
    "print('Stellar mass: {} Msun'.format(star.mact))\n",
    "print('Stellar radius: {} Rsun'.format(star.R))"
   ]
  },
  {
   "cell_type": "markdown",
   "metadata": {},
   "source": [
    "You can also get its magnitude, for example.\n",
    "\n",
    "We iterate over all bands loaded at initialization (there are many many more!)"
   ]
  },
  {
   "cell_type": "code",
   "execution_count": null,
   "metadata": {},
   "outputs": [],
   "source": [
    "for band in pastis.photometry.NormalisedFilters:\n",
    "    # This is linked with the CoRoT filters, which do not have a fixed zero point, so we skip them.\n",
    "    if band not in pastis.photometry.ZeroMag:\n",
    "        continue\n",
    "    print('Magnitude in {} band: {:.2f}.'.format(band, star.get_mag(band)))"
   ]
  },
  {
   "cell_type": "markdown",
   "metadata": {},
   "source": [
    "And we can plot its spectrum"
   ]
  },
  {
   "cell_type": "code",
   "execution_count": null,
   "metadata": {},
   "outputs": [],
   "source": [
    "fig = plt.figure()\n",
    "fig.add_subplot(111)\n",
    "\n",
    "plt.semilogx(pastis.photometry.ww, star.get_spectrum(), '-b',\n",
    "             label='Teff=5700; Dist=10; E(B-V)=0')\n",
    "plt.xlim(2800, 1e4) # focus on he visible\n",
    "leg = plt.legend(loc=0)"
   ]
  },
  {
   "cell_type": "markdown",
   "metadata": {},
   "source": [
    "Now let's see how changing some parameters affect the spectrum. First make a smaller star, and recompute the stellar parameters. Then plot the new spectrum (the force argument is new! Download the latest PASTIS version if you see the same spectra twice)"
   ]
  },
  {
   "cell_type": "code",
   "execution_count": null,
   "metadata": {},
   "outputs": [],
   "source": [
    "# plot previous one for comparison (don't know how to keep previous plot)\n",
    "plt.semilogx(pastis.photometry.ww, star.get_spectrum(), '-b',\n",
    "             label='Teff=5700; Dist=10; E(B-V)=0')\n",
    "\n",
    "# Change Teff and logg, and recompute params\n",
    "star.teff = 4500\n",
    "star.logg = 4.6\n",
    "star.get_stellarparameters()\n",
    "\n",
    "plt.semilogx(pastis.photometry.ww, star.get_spectrum(force=True), '-r',\n",
    "             label='Teff=4500; Dist=10; E(B-V)=0')\n",
    "plt.xlim(2800, 1e4) # focus on he visible\n",
    "leg = plt.legend(loc=0)"
   ]
  },
  {
   "cell_type": "markdown",
   "metadata": {},
   "source": [
    "By the way, notice that the mass and radius have changed."
   ]
  },
  {
   "cell_type": "code",
   "execution_count": null,
   "metadata": {},
   "outputs": [],
   "source": [
    "print('Stellar mass: {} Msun'.format(star.mact))\n",
    "print('Stellar radius: {} Rsun'.format(star.R))"
   ]
  },
  {
   "cell_type": "markdown",
   "metadata": {},
   "source": [
    "Now let's include some redenning on the first spectrum and plot again."
   ]
  },
  {
   "cell_type": "code",
   "execution_count": null,
   "metadata": {},
   "outputs": [],
   "source": [
    "star.teff = 5700\n",
    "star.logg = 4.4\n",
    "star.ebmv = 0.05\n",
    "star.get_stellarparameters()\n",
    "\n",
    "plt.semilogx(pastis.photometry.ww, star.get_spectrum(force=True), '-g',\n",
    "             label='Teff=5700; Dist=10; E(B-V)=0.05')\n",
    "\n",
    "# Plot previous one for comparison\n",
    "star.ebmv = 0.0\n",
    "plt.semilogx(pastis.photometry.ww, star.get_spectrum(force=True), '-b',\n",
    "             label='Teff=5700; Dist=10; E(B-V)=0.05')\n",
    "\n",
    "# Center on visible\n",
    "plt.xlim(2800, 1e4)\n",
    "leg = plt.legend(loc=0)"
   ]
  },
  {
   "cell_type": "code",
   "execution_count": null,
   "metadata": {},
   "outputs": [],
   "source": []
  }
 ],
 "metadata": {
  "kernelspec": {
   "display_name": "Python 2",
   "language": "python",
   "name": "python2"
  },
  "language_info": {
   "codemirror_mode": {
    "name": "ipython",
    "version": 2
   },
   "file_extension": ".py",
   "mimetype": "text/x-python",
   "name": "python",
   "nbconvert_exporter": "python",
   "pygments_lexer": "ipython2",
   "version": "2.7.16"
  }
 },
 "nbformat": 4,
 "nbformat_minor": 2
}
